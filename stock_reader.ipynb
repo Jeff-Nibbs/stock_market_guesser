{
 "cells": [
  {
   "cell_type": "code",
   "execution_count": 1,
   "metadata": {},
   "outputs": [
    {
     "name": "stdout",
     "output_type": "stream",
     "text": [
      "Requirement already satisfied: plotly in /Users/jnibbs/.pyenv/versions/3.10.5/lib/python3.10/site-packages (6.0.1)\n",
      "Requirement already satisfied: pandas in /Users/jnibbs/.pyenv/versions/3.10.5/lib/python3.10/site-packages (2.2.3)\n",
      "Requirement already satisfied: numpy in /Users/jnibbs/.pyenv/versions/3.10.5/lib/python3.10/site-packages (2.2.4)\n",
      "Requirement already satisfied: seaborn in /Users/jnibbs/.pyenv/versions/3.10.5/lib/python3.10/site-packages (0.13.2)\n",
      "Requirement already satisfied: matplotlib in /Users/jnibbs/.pyenv/versions/3.10.5/lib/python3.10/site-packages (3.10.1)\n",
      "Requirement already satisfied: nbformat in /Users/jnibbs/.pyenv/versions/3.10.5/lib/python3.10/site-packages (5.10.4)\n",
      "Requirement already satisfied: scikit-learn in /Users/jnibbs/.pyenv/versions/3.10.5/lib/python3.10/site-packages (1.6.1)\n",
      "Requirement already satisfied: packaging in /Users/jnibbs/.pyenv/versions/3.10.5/lib/python3.10/site-packages (from plotly) (24.2)\n",
      "Requirement already satisfied: narwhals>=1.15.1 in /Users/jnibbs/.pyenv/versions/3.10.5/lib/python3.10/site-packages (from plotly) (1.32.0)\n",
      "Requirement already satisfied: pytz>=2020.1 in /Users/jnibbs/.pyenv/versions/3.10.5/lib/python3.10/site-packages (from pandas) (2025.1)\n",
      "Requirement already satisfied: tzdata>=2022.7 in /Users/jnibbs/.pyenv/versions/3.10.5/lib/python3.10/site-packages (from pandas) (2025.1)\n",
      "Requirement already satisfied: python-dateutil>=2.8.2 in /Users/jnibbs/.pyenv/versions/3.10.5/lib/python3.10/site-packages (from pandas) (2.9.0.post0)\n",
      "Requirement already satisfied: kiwisolver>=1.3.1 in /Users/jnibbs/.pyenv/versions/3.10.5/lib/python3.10/site-packages (from matplotlib) (1.4.8)\n",
      "Requirement already satisfied: pillow>=8 in /Users/jnibbs/.pyenv/versions/3.10.5/lib/python3.10/site-packages (from matplotlib) (11.1.0)\n",
      "Requirement already satisfied: pyparsing>=2.3.1 in /Users/jnibbs/.pyenv/versions/3.10.5/lib/python3.10/site-packages (from matplotlib) (3.2.1)\n",
      "Requirement already satisfied: contourpy>=1.0.1 in /Users/jnibbs/.pyenv/versions/3.10.5/lib/python3.10/site-packages (from matplotlib) (1.3.1)\n",
      "Requirement already satisfied: cycler>=0.10 in /Users/jnibbs/.pyenv/versions/3.10.5/lib/python3.10/site-packages (from matplotlib) (0.12.1)\n",
      "Requirement already satisfied: fonttools>=4.22.0 in /Users/jnibbs/.pyenv/versions/3.10.5/lib/python3.10/site-packages (from matplotlib) (4.56.0)\n",
      "Requirement already satisfied: fastjsonschema>=2.15 in /Users/jnibbs/.pyenv/versions/3.10.5/lib/python3.10/site-packages (from nbformat) (2.21.1)\n",
      "Requirement already satisfied: jsonschema>=2.6 in /Users/jnibbs/.pyenv/versions/3.10.5/lib/python3.10/site-packages (from nbformat) (4.23.0)\n",
      "Requirement already satisfied: jupyter-core!=5.0.*,>=4.12 in /Users/jnibbs/.pyenv/versions/3.10.5/lib/python3.10/site-packages (from nbformat) (5.7.2)\n",
      "Requirement already satisfied: traitlets>=5.1 in /Users/jnibbs/.pyenv/versions/3.10.5/lib/python3.10/site-packages (from nbformat) (5.14.3)\n",
      "Requirement already satisfied: threadpoolctl>=3.1.0 in /Users/jnibbs/.pyenv/versions/3.10.5/lib/python3.10/site-packages (from scikit-learn) (3.6.0)\n",
      "Requirement already satisfied: joblib>=1.2.0 in /Users/jnibbs/.pyenv/versions/3.10.5/lib/python3.10/site-packages (from scikit-learn) (1.4.2)\n",
      "Requirement already satisfied: scipy>=1.6.0 in /Users/jnibbs/.pyenv/versions/3.10.5/lib/python3.10/site-packages (from scikit-learn) (1.15.2)\n",
      "Requirement already satisfied: attrs>=22.2.0 in /Users/jnibbs/.pyenv/versions/3.10.5/lib/python3.10/site-packages (from jsonschema>=2.6->nbformat) (25.3.0)\n",
      "Requirement already satisfied: jsonschema-specifications>=2023.03.6 in /Users/jnibbs/.pyenv/versions/3.10.5/lib/python3.10/site-packages (from jsonschema>=2.6->nbformat) (2024.10.1)\n",
      "Requirement already satisfied: rpds-py>=0.7.1 in /Users/jnibbs/.pyenv/versions/3.10.5/lib/python3.10/site-packages (from jsonschema>=2.6->nbformat) (0.24.0)\n",
      "Requirement already satisfied: referencing>=0.28.4 in /Users/jnibbs/.pyenv/versions/3.10.5/lib/python3.10/site-packages (from jsonschema>=2.6->nbformat) (0.36.2)\n",
      "Requirement already satisfied: platformdirs>=2.5 in /Users/jnibbs/.pyenv/versions/3.10.5/lib/python3.10/site-packages (from jupyter-core!=5.0.*,>=4.12->nbformat) (4.3.6)\n",
      "Requirement already satisfied: six>=1.5 in /Users/jnibbs/.pyenv/versions/3.10.5/lib/python3.10/site-packages (from python-dateutil>=2.8.2->pandas) (1.17.0)\n",
      "Requirement already satisfied: typing-extensions>=4.4.0 in /Users/jnibbs/.pyenv/versions/3.10.5/lib/python3.10/site-packages (from referencing>=0.28.4->jsonschema>=2.6->nbformat) (4.12.2)\n",
      "\u001b[33mWARNING: You are using pip version 22.0.4; however, version 25.0.1 is available.\n",
      "You should consider upgrading via the '/Users/jnibbs/.pyenv/versions/3.10.5/bin/python -m pip install --upgrade pip' command.\u001b[0m\u001b[33m\n",
      "\u001b[0mNote: you may need to restart the kernel to use updated packages.\n"
     ]
    }
   ],
   "source": [
    "%pip install --upgrade plotly pandas numpy seaborn matplotlib nbformat scikit-learn"
   ]
  },
  {
   "cell_type": "code",
   "execution_count": 2,
   "metadata": {},
   "outputs": [],
   "source": [
    "import pandas as pd\n",
    "import numpy as np\n",
    "\n",
    "import seaborn as sns\n",
    "import plotly.express as px\n",
    "import matplotlib.pyplot as plt\n",
    "\n",
    "import matplotlib.dates as mdates\n",
    "from sklearn.linear_model import LinearRegression\n",
    "from sklearn.model_selection import train_test_split"
   ]
  },
  {
   "cell_type": "code",
   "execution_count": 3,
   "metadata": {},
   "outputs": [],
   "source": [
    "pd.options.display.float_format = '{:,.2f}'.format"
   ]
  },
  {
   "cell_type": "code",
   "execution_count": 4,
   "metadata": {},
   "outputs": [],
   "source": [
    "stock = pd.read_csv('FUN.csv')"
   ]
  },
  {
   "cell_type": "code",
   "execution_count": 18,
   "metadata": {},
   "outputs": [
    {
     "name": "stdout",
     "output_type": "stream",
     "text": [
      "(8303, 7)\n",
      "Any NaN: False\n",
      "Any Duplicates: False\n",
      "<class 'pandas.core.frame.DataFrame'>\n",
      "RangeIndex: 8303 entries, 0 to 8302\n",
      "Data columns (total 7 columns):\n",
      " #   Column     Non-Null Count  Dtype  \n",
      "---  ------     --------------  -----  \n",
      " 0   Date       8303 non-null   object \n",
      " 1   Open       8303 non-null   float64\n",
      " 2   High       8303 non-null   float64\n",
      " 3   Low        8303 non-null   float64\n",
      " 4   Close      8303 non-null   float64\n",
      " 5   Adj Close  8303 non-null   float64\n",
      " 6   Volume     8303 non-null   int64  \n",
      "dtypes: float64(5), int64(1), object(1)\n",
      "memory usage: 454.2+ KB\n"
     ]
    }
   ],
   "source": [
    "print(stock.shape)\n",
    "print(f'Any NaN: {stock.isna().any().all()}')\n",
    "print(f'Any Duplicates: {stock.duplicated().any()}')\n",
    "stock.info()"
   ]
  },
  {
   "cell_type": "code",
   "execution_count": null,
   "metadata": {},
   "outputs": [],
   "source": []
  }
 ],
 "metadata": {
  "kernelspec": {
   "display_name": "Python 3",
   "language": "python",
   "name": "python3"
  },
  "language_info": {
   "codemirror_mode": {
    "name": "ipython",
    "version": 3
   },
   "file_extension": ".py",
   "mimetype": "text/x-python",
   "name": "python",
   "nbconvert_exporter": "python",
   "pygments_lexer": "ipython3",
   "version": "3.10.5"
  }
 },
 "nbformat": 4,
 "nbformat_minor": 2
}

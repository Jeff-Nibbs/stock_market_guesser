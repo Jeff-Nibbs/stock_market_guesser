{
 "cells": [
  {
   "cell_type": "code",
   "execution_count": 2,
   "metadata": {},
   "outputs": [
    {
     "name": "stdout",
     "output_type": "stream",
     "text": [
      "Requirement already satisfied: plotly in /Users/jnibbs/.pyenv/versions/3.10.5/lib/python3.10/site-packages (6.0.1)\n",
      "Requirement already satisfied: pandas in /Users/jnibbs/.pyenv/versions/3.10.5/lib/python3.10/site-packages (2.2.3)\n",
      "Requirement already satisfied: numpy in /Users/jnibbs/.pyenv/versions/3.10.5/lib/python3.10/site-packages (2.2.4)\n",
      "Requirement already satisfied: seaborn in /Users/jnibbs/.pyenv/versions/3.10.5/lib/python3.10/site-packages (0.13.2)\n",
      "Requirement already satisfied: matplotlib in /Users/jnibbs/.pyenv/versions/3.10.5/lib/python3.10/site-packages (3.10.1)\n",
      "Requirement already satisfied: nbformat in /Users/jnibbs/.pyenv/versions/3.10.5/lib/python3.10/site-packages (5.10.4)\n",
      "Requirement already satisfied: scikit-learn in /Users/jnibbs/.pyenv/versions/3.10.5/lib/python3.10/site-packages (1.6.1)\n",
      "Requirement already satisfied: packaging in /Users/jnibbs/.pyenv/versions/3.10.5/lib/python3.10/site-packages (from plotly) (24.2)\n",
      "Requirement already satisfied: narwhals>=1.15.1 in /Users/jnibbs/.pyenv/versions/3.10.5/lib/python3.10/site-packages (from plotly) (1.32.0)\n",
      "Requirement already satisfied: tzdata>=2022.7 in /Users/jnibbs/.pyenv/versions/3.10.5/lib/python3.10/site-packages (from pandas) (2025.1)\n",
      "Requirement already satisfied: pytz>=2020.1 in /Users/jnibbs/.pyenv/versions/3.10.5/lib/python3.10/site-packages (from pandas) (2025.1)\n",
      "Requirement already satisfied: python-dateutil>=2.8.2 in /Users/jnibbs/.pyenv/versions/3.10.5/lib/python3.10/site-packages (from pandas) (2.9.0.post0)\n",
      "Requirement already satisfied: kiwisolver>=1.3.1 in /Users/jnibbs/.pyenv/versions/3.10.5/lib/python3.10/site-packages (from matplotlib) (1.4.8)\n",
      "Requirement already satisfied: contourpy>=1.0.1 in /Users/jnibbs/.pyenv/versions/3.10.5/lib/python3.10/site-packages (from matplotlib) (1.3.1)\n",
      "Requirement already satisfied: cycler>=0.10 in /Users/jnibbs/.pyenv/versions/3.10.5/lib/python3.10/site-packages (from matplotlib) (0.12.1)\n",
      "Requirement already satisfied: pillow>=8 in /Users/jnibbs/.pyenv/versions/3.10.5/lib/python3.10/site-packages (from matplotlib) (11.1.0)\n",
      "Requirement already satisfied: fonttools>=4.22.0 in /Users/jnibbs/.pyenv/versions/3.10.5/lib/python3.10/site-packages (from matplotlib) (4.56.0)\n",
      "Requirement already satisfied: pyparsing>=2.3.1 in /Users/jnibbs/.pyenv/versions/3.10.5/lib/python3.10/site-packages (from matplotlib) (3.2.1)\n",
      "Requirement already satisfied: traitlets>=5.1 in /Users/jnibbs/.pyenv/versions/3.10.5/lib/python3.10/site-packages (from nbformat) (5.14.3)\n",
      "Requirement already satisfied: fastjsonschema>=2.15 in /Users/jnibbs/.pyenv/versions/3.10.5/lib/python3.10/site-packages (from nbformat) (2.21.1)\n",
      "Requirement already satisfied: jsonschema>=2.6 in /Users/jnibbs/.pyenv/versions/3.10.5/lib/python3.10/site-packages (from nbformat) (4.23.0)\n",
      "Requirement already satisfied: jupyter-core!=5.0.*,>=4.12 in /Users/jnibbs/.pyenv/versions/3.10.5/lib/python3.10/site-packages (from nbformat) (5.7.2)\n",
      "Requirement already satisfied: scipy>=1.6.0 in /Users/jnibbs/.pyenv/versions/3.10.5/lib/python3.10/site-packages (from scikit-learn) (1.15.2)\n",
      "Requirement already satisfied: threadpoolctl>=3.1.0 in /Users/jnibbs/.pyenv/versions/3.10.5/lib/python3.10/site-packages (from scikit-learn) (3.6.0)\n",
      "Requirement already satisfied: joblib>=1.2.0 in /Users/jnibbs/.pyenv/versions/3.10.5/lib/python3.10/site-packages (from scikit-learn) (1.4.2)\n",
      "Requirement already satisfied: referencing>=0.28.4 in /Users/jnibbs/.pyenv/versions/3.10.5/lib/python3.10/site-packages (from jsonschema>=2.6->nbformat) (0.36.2)\n",
      "Requirement already satisfied: jsonschema-specifications>=2023.03.6 in /Users/jnibbs/.pyenv/versions/3.10.5/lib/python3.10/site-packages (from jsonschema>=2.6->nbformat) (2024.10.1)\n",
      "Requirement already satisfied: rpds-py>=0.7.1 in /Users/jnibbs/.pyenv/versions/3.10.5/lib/python3.10/site-packages (from jsonschema>=2.6->nbformat) (0.24.0)\n",
      "Requirement already satisfied: attrs>=22.2.0 in /Users/jnibbs/.pyenv/versions/3.10.5/lib/python3.10/site-packages (from jsonschema>=2.6->nbformat) (25.3.0)\n",
      "Requirement already satisfied: platformdirs>=2.5 in /Users/jnibbs/.pyenv/versions/3.10.5/lib/python3.10/site-packages (from jupyter-core!=5.0.*,>=4.12->nbformat) (4.3.6)\n",
      "Requirement already satisfied: six>=1.5 in /Users/jnibbs/.pyenv/versions/3.10.5/lib/python3.10/site-packages (from python-dateutil>=2.8.2->pandas) (1.17.0)\n",
      "Requirement already satisfied: typing-extensions>=4.4.0 in /Users/jnibbs/.pyenv/versions/3.10.5/lib/python3.10/site-packages (from referencing>=0.28.4->jsonschema>=2.6->nbformat) (4.12.2)\n",
      "\u001b[33mWARNING: You are using pip version 22.0.4; however, version 25.0.1 is available.\n",
      "You should consider upgrading via the '/Users/jnibbs/.pyenv/versions/3.10.5/bin/python -m pip install --upgrade pip' command.\u001b[0m\u001b[33m\n",
      "\u001b[0mNote: you may need to restart the kernel to use updated packages.\n"
     ]
    }
   ],
   "source": [
    "%pip install --upgrade plotly pandas numpy seaborn matplotlib nbformat scikit-learn"
   ]
  },
  {
   "cell_type": "code",
   "execution_count": 3,
   "metadata": {},
   "outputs": [],
   "source": [
    "import pandas as pd\n",
    "import numpy as np\n",
    "\n",
    "import seaborn as sns\n",
    "import plotly.express as px\n",
    "import matplotlib.pyplot as plt\n",
    "\n",
    "import matplotlib.dates as mdates\n",
    "from sklearn.linear_model import LinearRegression\n",
    "from sklearn.model_selection import train_test_split"
   ]
  },
  {
   "cell_type": "code",
   "execution_count": 4,
   "metadata": {},
   "outputs": [],
   "source": [
    "pd.options.display.float_format = '{:,.2f}'.format"
   ]
  },
  {
   "cell_type": "code",
   "execution_count": 5,
   "metadata": {},
   "outputs": [],
   "source": [
    "stock = pd.read_csv('FUN.csv')"
   ]
  },
  {
   "cell_type": "markdown",
   "metadata": {},
   "source": [
    "## Dataset on the ticker FUN \n",
    "---"
   ]
  },
  {
   "cell_type": "code",
   "execution_count": 6,
   "metadata": {},
   "outputs": [
    {
     "name": "stdout",
     "output_type": "stream",
     "text": [
      "(8303, 7)\n",
      "Any NaN: False\n",
      "Any Duplicates: False\n",
      "<class 'pandas.core.frame.DataFrame'>\n",
      "RangeIndex: 8303 entries, 0 to 8302\n",
      "Data columns (total 7 columns):\n",
      " #   Column     Non-Null Count  Dtype  \n",
      "---  ------     --------------  -----  \n",
      " 0   Date       8303 non-null   object \n",
      " 1   Open       8303 non-null   float64\n",
      " 2   High       8303 non-null   float64\n",
      " 3   Low        8303 non-null   float64\n",
      " 4   Close      8303 non-null   float64\n",
      " 5   Adj Close  8303 non-null   float64\n",
      " 6   Volume     8303 non-null   int64  \n",
      "dtypes: float64(5), int64(1), object(1)\n",
      "memory usage: 454.2+ KB\n"
     ]
    }
   ],
   "source": [
    "print(stock.shape)\n",
    "print(f'Any NaN: {stock.isna().any().all()}')\n",
    "print(f'Any Duplicates: {stock.duplicated().any()}')\n",
    "stock.info()"
   ]
  },
  {
   "cell_type": "code",
   "execution_count": 7,
   "metadata": {},
   "outputs": [],
   "source": [
    "stock['Date'] = pd.to_datetime(stock['Date'])"
   ]
  },
  {
   "cell_type": "code",
   "execution_count": 8,
   "metadata": {},
   "outputs": [
    {
     "data": {
      "text/html": [
       "<div>\n",
       "<style scoped>\n",
       "    .dataframe tbody tr th:only-of-type {\n",
       "        vertical-align: middle;\n",
       "    }\n",
       "\n",
       "    .dataframe tbody tr th {\n",
       "        vertical-align: top;\n",
       "    }\n",
       "\n",
       "    .dataframe thead th {\n",
       "        text-align: right;\n",
       "    }\n",
       "</style>\n",
       "<table border=\"1\" class=\"dataframe\">\n",
       "  <thead>\n",
       "    <tr style=\"text-align: right;\">\n",
       "      <th></th>\n",
       "      <th>Date</th>\n",
       "      <th>Open</th>\n",
       "      <th>High</th>\n",
       "      <th>Low</th>\n",
       "      <th>Close</th>\n",
       "      <th>Adj Close</th>\n",
       "      <th>Volume</th>\n",
       "    </tr>\n",
       "  </thead>\n",
       "  <tbody>\n",
       "    <tr>\n",
       "      <th>0</th>\n",
       "      <td>1987-04-23</td>\n",
       "      <td>4.88</td>\n",
       "      <td>5.00</td>\n",
       "      <td>4.88</td>\n",
       "      <td>5.00</td>\n",
       "      <td>0.22</td>\n",
       "      <td>2902200</td>\n",
       "    </tr>\n",
       "    <tr>\n",
       "      <th>1</th>\n",
       "      <td>1987-04-24</td>\n",
       "      <td>5.00</td>\n",
       "      <td>5.00</td>\n",
       "      <td>4.94</td>\n",
       "      <td>5.00</td>\n",
       "      <td>0.22</td>\n",
       "      <td>1401800</td>\n",
       "    </tr>\n",
       "  </tbody>\n",
       "</table>\n",
       "</div>"
      ],
      "text/plain": [
       "        Date  Open  High  Low  Close  Adj Close   Volume\n",
       "0 1987-04-23  4.88  5.00 4.88   5.00       0.22  2902200\n",
       "1 1987-04-24  5.00  5.00 4.94   5.00       0.22  1401800"
      ]
     },
     "execution_count": 8,
     "metadata": {},
     "output_type": "execute_result"
    }
   ],
   "source": [
    "stock[:2]"
   ]
  },
  {
   "cell_type": "code",
   "execution_count": 10,
   "metadata": {},
   "outputs": [
    {
     "data": {
      "text/html": [
       "<div>\n",
       "<style scoped>\n",
       "    .dataframe tbody tr th:only-of-type {\n",
       "        vertical-align: middle;\n",
       "    }\n",
       "\n",
       "    .dataframe tbody tr th {\n",
       "        vertical-align: top;\n",
       "    }\n",
       "\n",
       "    .dataframe thead th {\n",
       "        text-align: right;\n",
       "    }\n",
       "</style>\n",
       "<table border=\"1\" class=\"dataframe\">\n",
       "  <thead>\n",
       "    <tr style=\"text-align: right;\">\n",
       "      <th></th>\n",
       "      <th>Date</th>\n",
       "      <th>Open</th>\n",
       "      <th>High</th>\n",
       "      <th>Low</th>\n",
       "      <th>Close</th>\n",
       "      <th>Adj Close</th>\n",
       "      <th>Volume</th>\n",
       "    </tr>\n",
       "  </thead>\n",
       "  <tbody>\n",
       "    <tr>\n",
       "      <th>8302</th>\n",
       "      <td>2020-04-01</td>\n",
       "      <td>17.73</td>\n",
       "      <td>17.96</td>\n",
       "      <td>16.66</td>\n",
       "      <td>17.05</td>\n",
       "      <td>17.05</td>\n",
       "      <td>898700</td>\n",
       "    </tr>\n",
       "    <tr>\n",
       "      <th>8301</th>\n",
       "      <td>2020-03-31</td>\n",
       "      <td>19.60</td>\n",
       "      <td>20.57</td>\n",
       "      <td>18.14</td>\n",
       "      <td>18.34</td>\n",
       "      <td>18.34</td>\n",
       "      <td>1027000</td>\n",
       "    </tr>\n",
       "    <tr>\n",
       "      <th>8300</th>\n",
       "      <td>2020-03-30</td>\n",
       "      <td>22.21</td>\n",
       "      <td>22.21</td>\n",
       "      <td>19.33</td>\n",
       "      <td>19.40</td>\n",
       "      <td>19.40</td>\n",
       "      <td>1216900</td>\n",
       "    </tr>\n",
       "    <tr>\n",
       "      <th>8299</th>\n",
       "      <td>2020-03-27</td>\n",
       "      <td>23.12</td>\n",
       "      <td>23.94</td>\n",
       "      <td>21.26</td>\n",
       "      <td>22.66</td>\n",
       "      <td>22.66</td>\n",
       "      <td>1167900</td>\n",
       "    </tr>\n",
       "    <tr>\n",
       "      <th>8298</th>\n",
       "      <td>2020-03-26</td>\n",
       "      <td>27.81</td>\n",
       "      <td>28.42</td>\n",
       "      <td>24.09</td>\n",
       "      <td>25.01</td>\n",
       "      <td>25.01</td>\n",
       "      <td>1379900</td>\n",
       "    </tr>\n",
       "    <tr>\n",
       "      <th>...</th>\n",
       "      <td>...</td>\n",
       "      <td>...</td>\n",
       "      <td>...</td>\n",
       "      <td>...</td>\n",
       "      <td>...</td>\n",
       "      <td>...</td>\n",
       "      <td>...</td>\n",
       "    </tr>\n",
       "    <tr>\n",
       "      <th>4</th>\n",
       "      <td>1987-04-29</td>\n",
       "      <td>5.00</td>\n",
       "      <td>5.00</td>\n",
       "      <td>4.94</td>\n",
       "      <td>5.00</td>\n",
       "      <td>0.22</td>\n",
       "      <td>67000</td>\n",
       "    </tr>\n",
       "    <tr>\n",
       "      <th>3</th>\n",
       "      <td>1987-04-28</td>\n",
       "      <td>5.00</td>\n",
       "      <td>5.00</td>\n",
       "      <td>4.94</td>\n",
       "      <td>5.00</td>\n",
       "      <td>0.22</td>\n",
       "      <td>89000</td>\n",
       "    </tr>\n",
       "    <tr>\n",
       "      <th>2</th>\n",
       "      <td>1987-04-27</td>\n",
       "      <td>5.00</td>\n",
       "      <td>5.00</td>\n",
       "      <td>4.88</td>\n",
       "      <td>5.00</td>\n",
       "      <td>0.22</td>\n",
       "      <td>290400</td>\n",
       "    </tr>\n",
       "    <tr>\n",
       "      <th>1</th>\n",
       "      <td>1987-04-24</td>\n",
       "      <td>5.00</td>\n",
       "      <td>5.00</td>\n",
       "      <td>4.94</td>\n",
       "      <td>5.00</td>\n",
       "      <td>0.22</td>\n",
       "      <td>1401800</td>\n",
       "    </tr>\n",
       "    <tr>\n",
       "      <th>0</th>\n",
       "      <td>1987-04-23</td>\n",
       "      <td>4.88</td>\n",
       "      <td>5.00</td>\n",
       "      <td>4.88</td>\n",
       "      <td>5.00</td>\n",
       "      <td>0.22</td>\n",
       "      <td>2902200</td>\n",
       "    </tr>\n",
       "  </tbody>\n",
       "</table>\n",
       "<p>8303 rows × 7 columns</p>\n",
       "</div>"
      ],
      "text/plain": [
       "           Date  Open  High   Low  Close  Adj Close   Volume\n",
       "8302 2020-04-01 17.73 17.96 16.66  17.05      17.05   898700\n",
       "8301 2020-03-31 19.60 20.57 18.14  18.34      18.34  1027000\n",
       "8300 2020-03-30 22.21 22.21 19.33  19.40      19.40  1216900\n",
       "8299 2020-03-27 23.12 23.94 21.26  22.66      22.66  1167900\n",
       "8298 2020-03-26 27.81 28.42 24.09  25.01      25.01  1379900\n",
       "...         ...   ...   ...   ...    ...        ...      ...\n",
       "4    1987-04-29  5.00  5.00  4.94   5.00       0.22    67000\n",
       "3    1987-04-28  5.00  5.00  4.94   5.00       0.22    89000\n",
       "2    1987-04-27  5.00  5.00  4.88   5.00       0.22   290400\n",
       "1    1987-04-24  5.00  5.00  4.94   5.00       0.22  1401800\n",
       "0    1987-04-23  4.88  5.00  4.88   5.00       0.22  2902200\n",
       "\n",
       "[8303 rows x 7 columns]"
      ]
     },
     "execution_count": 10,
     "metadata": {},
     "output_type": "execute_result"
    }
   ],
   "source": [
    "stock.sort_values('Date', ascending=False)"
   ]
  },
  {
   "cell_type": "markdown",
   "metadata": {},
   "source": [
    "### Train the model"
   ]
  },
  {
   "cell_type": "code",
   "execution_count": 18,
   "metadata": {},
   "outputs": [],
   "source": [
    "target = stock['Close']\n",
    "features = stock.drop(['Close', 'Date'], axis=1)\n",
    "\n",
    "X_train, X_test, y_train, y_test = train_test_split(features, \n",
    "                                                    target, \n",
    "                                                    test_size=0.2, \n",
    "                                                    random_state=10)"
   ]
  },
  {
   "cell_type": "code",
   "execution_count": 19,
   "metadata": {},
   "outputs": [
    {
     "name": "stdout",
     "output_type": "stream",
     "text": [
      "Training data r-squared: 1.0\n"
     ]
    }
   ],
   "source": [
    "regr = LinearRegression()\n",
    "regr.fit(X_train, y_train)\n",
    "rsquared = regr.score(X_train, y_train)\n",
    "print(f'Training data r-squared: {rsquared:.2}')"
   ]
  },
  {
   "cell_type": "code",
   "execution_count": 20,
   "metadata": {},
   "outputs": [
    {
     "data": {
      "text/html": [
       "<div>\n",
       "<style scoped>\n",
       "    .dataframe tbody tr th:only-of-type {\n",
       "        vertical-align: middle;\n",
       "    }\n",
       "\n",
       "    .dataframe tbody tr th {\n",
       "        vertical-align: top;\n",
       "    }\n",
       "\n",
       "    .dataframe thead th {\n",
       "        text-align: right;\n",
       "    }\n",
       "</style>\n",
       "<table border=\"1\" class=\"dataframe\">\n",
       "  <thead>\n",
       "    <tr style=\"text-align: right;\">\n",
       "      <th></th>\n",
       "      <th>Coefficient</th>\n",
       "    </tr>\n",
       "  </thead>\n",
       "  <tbody>\n",
       "    <tr>\n",
       "      <th>Open</th>\n",
       "      <td>-0.44</td>\n",
       "    </tr>\n",
       "    <tr>\n",
       "      <th>High</th>\n",
       "      <td>0.72</td>\n",
       "    </tr>\n",
       "    <tr>\n",
       "      <th>Low</th>\n",
       "      <td>0.72</td>\n",
       "    </tr>\n",
       "    <tr>\n",
       "      <th>Adj Close</th>\n",
       "      <td>-0.00</td>\n",
       "    </tr>\n",
       "    <tr>\n",
       "      <th>Volume</th>\n",
       "      <td>-0.00</td>\n",
       "    </tr>\n",
       "  </tbody>\n",
       "</table>\n",
       "</div>"
      ],
      "text/plain": [
       "           Coefficient\n",
       "Open             -0.44\n",
       "High              0.72\n",
       "Low               0.72\n",
       "Adj Close        -0.00\n",
       "Volume           -0.00"
      ]
     },
     "execution_count": 20,
     "metadata": {},
     "output_type": "execute_result"
    }
   ],
   "source": [
    "regr_coef = pd.DataFrame(data=regr.coef_, index=X_train.columns, columns=['Coefficient'])\n",
    "regr_coef"
   ]
  },
  {
   "cell_type": "code",
   "execution_count": null,
   "metadata": {},
   "outputs": [],
   "source": []
  },
  {
   "cell_type": "code",
   "execution_count": null,
   "metadata": {},
   "outputs": [],
   "source": []
  }
 ],
 "metadata": {
  "kernelspec": {
   "display_name": "Python 3",
   "language": "python",
   "name": "python3"
  },
  "language_info": {
   "codemirror_mode": {
    "name": "ipython",
    "version": 3
   },
   "file_extension": ".py",
   "mimetype": "text/x-python",
   "name": "python",
   "nbconvert_exporter": "python",
   "pygments_lexer": "ipython3",
   "version": "3.10.5"
  }
 },
 "nbformat": 4,
 "nbformat_minor": 2
}
